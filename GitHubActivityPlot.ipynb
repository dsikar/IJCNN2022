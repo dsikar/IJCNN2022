{
 "cells": [
  {
   "cell_type": "markdown",
   "metadata": {},
   "source": [
    "# GitHub Activity Plot\n",
    "We look at number of commits (binned by Month), number of contributors and number of line code changes.\n",
    "\n",
    "## 1. Clone a repository:\n",
    "```\n",
    "$ git clone https://github.com/microsoft/AirSim.git\n",
    "``` \n",
    " \n",
    "## 2. Get log:\n",
    "```\n",
    "$ git log --date=format:%Y%m%d > AirSimGitHubLog20211017.txt \n",
    "```\n",
    "NB Time formatting options: https://www.ibm.com/docs/en/z-workload-scheduler/9.5.0?topic=troubleshooting-date-time-format-reference-strftime\n",
    "## 3. Get data"
   ]
  },
  {
   "cell_type": "code",
   "execution_count": 86,
   "metadata": {},
   "outputs": [],
   "source": [
    "#############################################################\n",
    "# Commit info\n",
    "# Coding standard: https://www.python.org/dev/peps/pep-0008/\n",
    "#############################################################\n",
    "class CommitInfo():\n",
    "    \"\"\"\n",
    "    Public member variables\n",
    "    \"\"\"\n",
    "    commit1 = ''\n",
    "    commit2 = ''\n",
    "    author = ''\n",
    "    date = ''\n",
    "    \"\"\"\n",
    "    Public methods\n",
    "    \"\"\"\n",
    "    def process_line(self, line):\n",
    "        info = line.split()\n",
    "        # We are expecting lines like:\n",
    "        # commit c2da7c780fb9a1bcd89001d029dbeb18ba94533f\n",
    "        # Author: zimmy87 <zimmy87@gmail.com>\n",
    "        # Date:   20211006\n",
    "        if len(info) == 0:\n",
    "            return\n",
    "        #if info[0] == 'commit':\n",
    "            # print(info[1])\n",
    "        #    self.process_commit(info[1])\n",
    "        if info[0] == 'Author:':\n",
    "            # print(info[2])\n",
    "            self.process_author(info[2])\n",
    "        if info[0] == 'Date:':\n",
    "        #    print(info[1]) \n",
    "            self.process_date(info[2])\n",
    "    def process_commit(self, commit):\n",
    "        \"\"\"\n",
    "        Process commit, store a commit, if two exist, compare and get number of line changes\n",
    "        Input:\n",
    "            commit: String, commit hash\n",
    "        Output:\n",
    "            none\n",
    "        \"\"\"\n",
    "        from os import system\n",
    "        if self.commit1 == '':\n",
    "            self.commit1 = commit\n",
    "        else:\n",
    "            # print(\"Processing commit \", self.commit1)\n",
    "            self.commit2 = commit\n",
    "            self.commit1 = self.commit2\n",
    "            self.commit2 = ''\n",
    "            \n",
    "    def process_author(self, author):\n",
    "        \"\"\"\n",
    "        Store commit author\n",
    "        Input:\n",
    "            author: string\n",
    "        Output:\n",
    "            none\n",
    "        \"\"\"\n",
    "        self.author = author\n",
    "        # print(self.author)\n",
    "        \n",
    "    def process_date(self, author):\n",
    "        \"\"\"\n",
    "        Store commit date\n",
    "        Input:\n",
    "            date: string\n",
    "        Output:\n",
    "            none\n",
    "        \"\"\"\n",
    "        self.date = date\n",
    "        # print(self.author)        "
   ]
  },
  {
   "cell_type": "code",
   "execution_count": 87,
   "metadata": {},
   "outputs": [
    {
     "name": "stdout",
     "output_type": "stream",
     "text": [
      "<jonathanm@nippur.us>\n",
      "<zimmy87@gmail.com>\n",
      "<zimmy87@gmail.com>\n"
     ]
    }
   ],
   "source": [
    "# We start by opening the file\n",
    "ci = CommitInfo()\n",
    "file = open(\"ShortLog.txt\", \"r\")\n",
    "for line in file:\n",
    "    ci.process_line(line)\n",
    "# last commit\n",
    "ci.process_commit(\"dummy_commit\")\n",
    "file.close()"
   ]
  },
  {
   "cell_type": "code",
   "execution_count": 68,
   "metadata": {},
   "outputs": [
    {
     "data": {
      "text/plain": [
       "32256"
      ]
     },
     "execution_count": 68,
     "metadata": {},
     "output_type": "execute_result"
    }
   ],
   "source": [
    "import os\n",
    "os.system(\"whoami > /home/daniel/git/AirSim/me.txt\")"
   ]
  },
  {
   "cell_type": "code",
   "execution_count": 72,
   "metadata": {},
   "outputs": [
    {
     "data": {
      "text/plain": [
       "512"
      ]
     },
     "execution_count": 72,
     "metadata": {},
     "output_type": "execute_result"
    }
   ],
   "source": [
    "from os import system\n",
    "system(\". log.sh\")"
   ]
  },
  {
   "cell_type": "code",
   "execution_count": null,
   "metadata": {},
   "outputs": [],
   "source": []
  }
 ],
 "metadata": {
  "kernelspec": {
   "display_name": "Python 3",
   "language": "python",
   "name": "python3"
  },
  "language_info": {
   "codemirror_mode": {
    "name": "ipython",
    "version": 3
   },
   "file_extension": ".py",
   "mimetype": "text/x-python",
   "name": "python",
   "nbconvert_exporter": "python",
   "pygments_lexer": "ipython3",
   "version": "3.7.3"
  }
 },
 "nbformat": 4,
 "nbformat_minor": 2
}
